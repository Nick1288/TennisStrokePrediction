{
  "cells": [
    {
      "cell_type": "markdown",
      "metadata": {},
      "source": [
        "# Data exploration and cleaning"
      ]
    },
    {
      "cell_type": "code",
      "execution_count": 117,
      "metadata": {},
      "outputs": [],
      "source": [
        "import numpy as np\n",
        "import pandas as pd\n",
        "import seaborn\n",
        "import os\n",
        "\n",
        "from matplotlib import pyplot as plt\n",
        "from numpy import log1p\n"
      ]
    },
    {
      "cell_type": "markdown",
      "metadata": {},
      "source": [
        "## Import data"
      ]
    },
    {
      "cell_type": "markdown",
      "metadata": {},
      "source": [
        "### for jupter Notebook"
      ]
    },
    {
      "cell_type": "code",
      "execution_count": 118,
      "metadata": {},
      "outputs": [
        {
          "name": "stdout",
          "output_type": "stream",
          "text": [
            "Current Working Directory: c:\\Users\\gushi\\LTU\\TennisStrokePrediction\n"
          ]
        },
        {
          "name": "stderr",
          "output_type": "stream",
          "text": [
            "C:\\Users\\gushi\\AppData\\Local\\Temp\\ipykernel_17504\\2372044445.py:5: DtypeWarning: Columns (7,12,24,25,26,31,32,33,34,35,45,51) have mixed types. Specify dtype option on import or set low_memory=False.\n",
            "  data = pd.read_csv(file_path, encoding='latin1')\n"
          ]
        },
        {
          "name": "stdout",
          "output_type": "stream",
          "text": [
            "Index(['match_id', 'Pt', 'Set1', 'Set2', 'Gm1', 'Gm2', 'Pts', 'Gm#', 'TbSet',\n",
            "       'TB?', 'TBpt', 'Svr', 'Ret', 'Serving', '1st', '2nd', 'Notes',\n",
            "       '1stNoLet', '2ndNoLet', '1stSV', '2ndSV', '1stNoSV', '2ndNoSV', '1stIn',\n",
            "       '2ndIn', 'isRally1st', 'isRally2nd', 'Sv1', 'Sv2', 'Rally', 'isAce',\n",
            "       'isUnret', 'isRallyWinner', 'isForced', 'isUnforced', 'isDouble',\n",
            "       'rallyNoSpec', 'rallyNoError', 'rallyNoDirection', 'rallyLen',\n",
            "       'PtWinner', 'isSvrWinner', 'PtsAfter', 'GmW', 'Gm1.1', 'Gm2.1', 'SetW',\n",
            "       'Set1.1', 'Set2.1', 'RevTB', 'TBrev', 'rallyCount'],\n",
            "      dtype='object')\n"
          ]
        }
      ],
      "source": [
        "# Ensure the file exists in the current directory or provide the correct path\n",
        "print(\"Current Working Directory:\", os.getcwd())\n",
        "file_path = 'data/charting-m-points.csv' \n",
        "\n",
        "data = pd.read_csv(file_path, encoding='latin1')\n",
        "\t\n",
        "print(data.columns)"
      ]
    },
    {
      "cell_type": "markdown",
      "metadata": {},
      "source": [
        "## Data cleaning"
      ]
    },
    {
      "cell_type": "code",
      "execution_count": 119,
      "metadata": {},
      "outputs": [
        {
          "name": "stdout",
          "output_type": "stream",
          "text": [
            "Kept Features Types:\n",
            "Pt            int64\n",
            "Set1          int64\n",
            "Set2          int64\n",
            "Gm1           int64\n",
            "Gm2         float64\n",
            "Pts          object\n",
            "Gm#          object\n",
            "TB?         float64\n",
            "rallyLen      int64\n",
            "dtype: object\n",
            "\n",
            "Processed Features Types:\n",
            "match_id         object\n",
            "Svr               int64\n",
            "Ret              object\n",
            "Serving          object\n",
            "Sv1              object\n",
            "Sv2              object\n",
            "isAce              bool\n",
            "isUnret          object\n",
            "isRallyWinner    object\n",
            "isForced         object\n",
            "isUnforced       object\n",
            "isDouble         object\n",
            "rallyNoError     object\n",
            "dtype: object\n"
          ]
        }
      ],
      "source": [
        "dropped_features = [\"TbSet\", \"TBpt\", \"1st\", \"2nd\", \"Notes\", \"1stNoLet\", \"2ndNoLet\", \"1stSV\", \"2ndSV\", \"1stNoSV\", \"2ndNoSV\", \"1stIn\", \"2ndIn\", \"isRally1st\", \"isRally2nd\", \"Rally\", \"rallyNoSpec\", \"rallyNoDirection\", \"PtWinner\", \"isSvrWinner\", \"PtsAfter\", 'GmW', 'Gm1.1', 'Gm2.1', 'SetW', 'Set1.1', 'Set2.1', \"RevTB\", \"TBrev\", \"rallyCount\"]\n",
        "\n",
        "kept_features = [\"Pt\", \"Set1\", \"Set2\", \"Gm1\", \"Gm2\", \"Pts\", \"Gm#\", \"TB?\", \"rallyLen\"]\n",
        "\n",
        "processing_features = [ \"match_id\", \"Svr\", \"Ret\", \"Serving\",\"Sv1\", \"Sv2\",\"isAce\", \"isUnret\", \"isRallyWinner\", \"isForced\", \"isUnforced\", \"isDouble\", \"rallyNoError\"]\n",
        "\n",
        "\n",
        "data = data.drop(columns=dropped_features, errors='ignore')\n",
        "\n",
        "# Split the data into two datasets\n",
        "kept_features_data = data[kept_features].copy()\n",
        "processing_features_data = data[processing_features].copy()\n",
        "\n",
        "print(\"Kept Features Types:\")\n",
        "print(kept_features_data.dtypes)\n",
        "\n",
        "print(\"\\nProcessed Features Types:\")\n",
        "print(processing_features_data.dtypes)\n"
      ]
    },
    {
      "cell_type": "code",
      "execution_count": 120,
      "metadata": {},
      "outputs": [
        {
          "name": "stdout",
          "output_type": "stream",
          "text": [
            "\n",
            "Missing values:\n",
            "match_id              0\n",
            "Pt                    0\n",
            "Set1                  0\n",
            "Set2                  0\n",
            "Gm1                   0\n",
            "Gm2                   1\n",
            "Pts                   0\n",
            "Gm#                   1\n",
            "TB?                  75\n",
            "Svr                   0\n",
            "Ret                   0\n",
            "Serving             946\n",
            "Sv1                   0\n",
            "Sv2              205088\n",
            "isAce                 0\n",
            "isUnret              10\n",
            "isRallyWinner        10\n",
            "isForced             10\n",
            "isUnforced            0\n",
            "isDouble              0\n",
            "rallyNoError      44059\n",
            "rallyLen              0\n",
            "dtype: int64\n"
          ]
        }
      ],
      "source": [
        "print(\"\\nMissing values:\")\n",
        "print(data.isnull().sum())"
      ]
    },
    {
      "cell_type": "markdown",
      "metadata": {},
      "source": [
        "# Process deduced features and compount features"
      ]
    },
    {
      "cell_type": "code",
      "execution_count": 121,
      "metadata": {},
      "outputs": [],
      "source": [
        "def filter_data_by_player(data, target_player):\n",
        "    \"\"\"\n",
        "    Filters the data for rows where the target player is playing.\n",
        "\n",
        "    Parameters:\n",
        "    data (pd.DataFrame): The input dataset.\n",
        "    target_player (str): The name of the target player.\n",
        "\n",
        "    Returns:\n",
        "    pd.DataFrame: Filtered dataset containing only rows where the target player is playing.\n",
        "    \"\"\"\n",
        "    # Select \"match_id\" where target player is playing\n",
        "    selected_match_ids = data.loc[data['Serving'] == target_player, 'match_id'].unique()\n",
        "\n",
        "    # Filter rows in data where \"match_id\" is in the selected match_ids\n",
        "    filtered_data = data[data['match_id'].isin(selected_match_ids)]\n",
        "    \n",
        "    return filtered_data\n",
        "\n",
        "#In processing_data create \"Svr\" : 1 if the target player is serving, 0 if the target player is receiving\n",
        "def create_svr_column(data, target_player): \n",
        "    \"\"\"\n",
        "    Creates a new column \"Svr\" in the dataset indicating if the target player is serving.\n",
        "\n",
        "    Parameters:\n",
        "    data (pd.DataFrame): The input dataset.\n",
        "    target_player (str): The name of the target player.\n",
        "\n",
        "    Returns:\n",
        "    pd.DataFrame: Updated dataset with the new \"Svr\" column.\n",
        "    \"\"\"\n",
        "    data['Svr'] = np.where(data['Serving'] == target_player, 1, 0)\n",
        "    return data"
      ]
    },
    {
      "cell_type": "code",
      "execution_count": 122,
      "metadata": {},
      "outputs": [],
      "source": [
        "# define shot types to be mapped for our unforced error and winners array\n",
        "shot_types = [\n",
        "    'f', 'b',  # groundstrokes\n",
        "    'r', 's',  # slices\n",
        "    'v', 'z',  # volleys\n",
        "    'o', 'p',  # overheads\n",
        "    'u', 'y',  # drop shots\n",
        "    'l', 'm',  # lobs\n",
        "    'h', 'i',  # half-volleys\n",
        "    'j', 'k',  # swinging volleys\n",
        "]\n",
        "\n",
        "# generate combinations with directions 1, 2, 3\n",
        "shot_vocab = {f\"{shot}{n}\": idx for idx, (shot, n) in enumerate(\n",
        "    (s, i) for s in shot_types for i in [1, 2, 3]\n",
        ")}\n",
        "\n"
      ]
    },
    {
      "cell_type": "code",
      "execution_count": 123,
      "metadata": {},
      "outputs": [],
      "source": [
        "def process_rally_data(df, shot_vocab):\n",
        "    \"\"\"\n",
        "    Processes rally data into 3-shot sequences with serve context and a 48-class label array.\n",
        "\n",
        "    Parameters:\n",
        "        df (pd.DataFrame): Dataframe containing at least these columns:\n",
        "            'Sv1', 'Sv2', 'rallyNoSpec', 'isAce', 'isUnret', 'isRallyWinner',\n",
        "            'isForced', 'isUnforced', 'isDouble', 'rallyNoError'\n",
        "        shot_vocab (dict): Mapping of shot codes (e.g., 'f1', 'b2') to indices (0-47)\n",
        "\n",
        "    Returns:\n",
        "        pd.DataFrame: New dataframe with columns ['shot1', 'shot2', 'shot3', 'label_array']\n",
        "    \"\"\"\n",
        "    sequence_data = []\n",
        "\n",
        "    for _, row in df.iterrows():\n",
        "        rally_tokens=[]\n",
        "        isServe = row['Svr'] == 1\n",
        "        rally = row['rallyNoError']\n",
        "\n",
        "        if (pd.isna(rally) or len(rally)<2):\n",
        "            continue\n",
        "\n",
        "        if (len(rally)==2):\n",
        "            rally_tokens = [rally]\n",
        "        else:\n",
        "            rally_tokens.append(rally[:3])    # return is 3 characters instead of 2\n",
        "            rally_tokens.extend([rally[i:i+2] for i in range(3, len(rally)-1, 2)])\n",
        "\n",
        "        # serve logic\n",
        "        if not pd.isna(row['Sv1']):\n",
        "            if not pd.isna(row['Sv2']):  # second serve used\n",
        "                full_rally = [row['Sv1'], row['Sv2']] + rally_tokens\n",
        "            else:  # first serve only\n",
        "                full_rally = ['0', row['Sv1']] + rally_tokens\n",
        "        else:\n",
        "            continue  # skip if no valid serve found\n",
        "\n",
        "        # Create 48-dim label array\n",
        "        winner_array = np.zeros(48)\n",
        "        unforced_array = np.zeros(48)\n",
        "\n",
        "        if len(rally_tokens) > 0:\n",
        "            final_shot = rally_tokens[-1]\n",
        "            idx = shot_vocab.get(final_shot, None)\n",
        "\n",
        "            if idx is not None:\n",
        "                if row['isRallyWinner']:\n",
        "                    winner_array[idx] += 1  # winner\n",
        "                elif row['isUnforced']:\n",
        "                    unforced_array[idx] += 1  # unforced error\n",
        "\n",
        "        # Generate 3-shot sequences\n",
        "        if (isServe):\n",
        "            i = 1\n",
        "            while i + 2 < len(full_rally):\n",
        "                sequence_data.append({\n",
        "                    'shot1': full_rally[i],\n",
        "                    'shot2': full_rally[i + 1],\n",
        "                    'shot3': full_rally[i + 2],\n",
        "                    'winner_array': winner_array.copy(),\n",
        "                    'unforced_array': unforced_array.copy(),\n",
        "                })\n",
        "                i += 2\n",
        "        else:\n",
        "            i = 0\n",
        "            while i + 2 < len(full_rally):\n",
        "                sequence_data.append({\n",
        "                    'shot1': full_rally[i],\n",
        "                    'shot2': full_rally[i+1],\n",
        "                    'shot3': full_rally[i+2],\n",
        "                    'winner_array': winner_array.copy(),\n",
        "                    'unforced_array': unforced_array.copy(),\n",
        "                })\n",
        "                i += 2\n",
        "\n",
        "\n",
        "    return pd.DataFrame(sequence_data)"
      ]
    },
    {
      "cell_type": "markdown",
      "metadata": {},
      "source": [
        "### Acutual processing"
      ]
    },
    {
      "cell_type": "code",
      "execution_count": 124,
      "metadata": {},
      "outputs": [
        {
          "name": "stdout",
          "output_type": "stream",
          "text": [
            "Number of Unique Matches Found: 322\n",
            "Number of Rows Selected: 55713\n",
            "Sum of Rally Lengths: 200252\n"
          ]
        }
      ],
      "source": [
        "processing_data = data.copy()\n",
        "target_player = \"RF\"\n",
        "\n",
        "# Test the filter_data_by_player function\n",
        "processing_data = filter_data_by_player(processing_data, target_player)\n",
        "\n",
        "# Print the number of unique match IDs selected\n",
        "num_unique_matches = len(processing_data['match_id'].unique())\n",
        "print(f\"Number of Unique Matches Found: {num_unique_matches}\")\n",
        "\n",
        "# Print the number of rows selected\n",
        "num_rows_selected = processing_data.shape[0]\n",
        "print(f\"Number of Rows Selected: {num_rows_selected}\")\n",
        "\n",
        "# Calculate and print the sum of rally lengths for all rows\n",
        "if 'rallyLen' in processing_data.columns:\n",
        "    rally_len_sum = processing_data['rallyLen'].sum()\n",
        "    print(f\"Sum of Rally Lengths: {rally_len_sum}\")\n",
        "else:\n",
        "    print(\"Column 'rallyLen' not found in the dataset.\")\n",
        "\n",
        "# Test the create_svr_column function\n",
        "processing_data = create_svr_column(processing_data, target_player)"
      ]
    },
    {
      "cell_type": "code",
      "execution_count": 125,
      "metadata": {},
      "outputs": [
        {
          "name": "stdout",
          "output_type": "stream",
          "text": [
            "6980            f27f3\n",
            "6981               s2\n",
            "6982               f1\n",
            "6983    b38f3b1f1f3s2\n",
            "6984              NaN\n",
            "Name: rallyNoError, dtype: object\n"
          ]
        }
      ],
      "source": [
        "print(processing_data[\"rallyNoError\"].head(5))"
      ]
    },
    {
      "cell_type": "code",
      "execution_count": 126,
      "metadata": {},
      "outputs": [
        {
          "data": {
            "text/html": [
              "<div>\n",
              "<style scoped>\n",
              "    .dataframe tbody tr th:only-of-type {\n",
              "        vertical-align: middle;\n",
              "    }\n",
              "\n",
              "    .dataframe tbody tr th {\n",
              "        vertical-align: top;\n",
              "    }\n",
              "\n",
              "    .dataframe thead th {\n",
              "        text-align: right;\n",
              "    }\n",
              "</style>\n",
              "<table border=\"1\" class=\"dataframe\">\n",
              "  <thead>\n",
              "    <tr style=\"text-align: right;\">\n",
              "      <th></th>\n",
              "      <th>shot1</th>\n",
              "      <th>shot2</th>\n",
              "      <th>shot3</th>\n",
              "      <th>winner_array</th>\n",
              "      <th>unforced_array</th>\n",
              "    </tr>\n",
              "  </thead>\n",
              "  <tbody>\n",
              "    <tr>\n",
              "      <th>0</th>\n",
              "      <td>4</td>\n",
              "      <td>f27</td>\n",
              "      <td>f3</td>\n",
              "      <td>[0.0, 0.0, 0.0, 0.0, 0.0, 0.0, 0.0, 0.0, 0.0, ...</td>\n",
              "      <td>[0.0, 0.0, 1.0, 0.0, 0.0, 0.0, 0.0, 0.0, 0.0, ...</td>\n",
              "    </tr>\n",
              "    <tr>\n",
              "      <th>1</th>\n",
              "      <td>5</td>\n",
              "      <td>b38</td>\n",
              "      <td>f3</td>\n",
              "      <td>[0.0, 0.0, 0.0, 0.0, 0.0, 0.0, 0.0, 0.0, 0.0, ...</td>\n",
              "      <td>[0.0, 0.0, 0.0, 0.0, 0.0, 0.0, 0.0, 0.0, 0.0, ...</td>\n",
              "    </tr>\n",
              "    <tr>\n",
              "      <th>2</th>\n",
              "      <td>f3</td>\n",
              "      <td>b1</td>\n",
              "      <td>f1</td>\n",
              "      <td>[0.0, 0.0, 0.0, 0.0, 0.0, 0.0, 0.0, 0.0, 0.0, ...</td>\n",
              "      <td>[0.0, 0.0, 0.0, 0.0, 0.0, 0.0, 0.0, 0.0, 0.0, ...</td>\n",
              "    </tr>\n",
              "    <tr>\n",
              "      <th>3</th>\n",
              "      <td>f1</td>\n",
              "      <td>f3</td>\n",
              "      <td>s2</td>\n",
              "      <td>[0.0, 0.0, 0.0, 0.0, 0.0, 0.0, 0.0, 0.0, 0.0, ...</td>\n",
              "      <td>[0.0, 0.0, 0.0, 0.0, 0.0, 0.0, 0.0, 0.0, 0.0, ...</td>\n",
              "    </tr>\n",
              "    <tr>\n",
              "      <th>4</th>\n",
              "      <td>0</td>\n",
              "      <td>6</td>\n",
              "      <td>b27</td>\n",
              "      <td>[0.0, 0.0, 0.0, 0.0, 0.0, 0.0, 0.0, 0.0, 0.0, ...</td>\n",
              "      <td>[1.0, 0.0, 0.0, 0.0, 0.0, 0.0, 0.0, 0.0, 0.0, ...</td>\n",
              "    </tr>\n",
              "  </tbody>\n",
              "</table>\n",
              "</div>"
            ],
            "text/plain": [
              "  shot1 shot2 shot3                                       winner_array  \\\n",
              "0     4   f27    f3  [0.0, 0.0, 0.0, 0.0, 0.0, 0.0, 0.0, 0.0, 0.0, ...   \n",
              "1     5   b38    f3  [0.0, 0.0, 0.0, 0.0, 0.0, 0.0, 0.0, 0.0, 0.0, ...   \n",
              "2    f3    b1    f1  [0.0, 0.0, 0.0, 0.0, 0.0, 0.0, 0.0, 0.0, 0.0, ...   \n",
              "3    f1    f3    s2  [0.0, 0.0, 0.0, 0.0, 0.0, 0.0, 0.0, 0.0, 0.0, ...   \n",
              "4     0     6   b27  [0.0, 0.0, 0.0, 0.0, 0.0, 0.0, 0.0, 0.0, 0.0, ...   \n",
              "\n",
              "                                      unforced_array  \n",
              "0  [0.0, 0.0, 1.0, 0.0, 0.0, 0.0, 0.0, 0.0, 0.0, ...  \n",
              "1  [0.0, 0.0, 0.0, 0.0, 0.0, 0.0, 0.0, 0.0, 0.0, ...  \n",
              "2  [0.0, 0.0, 0.0, 0.0, 0.0, 0.0, 0.0, 0.0, 0.0, ...  \n",
              "3  [0.0, 0.0, 0.0, 0.0, 0.0, 0.0, 0.0, 0.0, 0.0, ...  \n",
              "4  [1.0, 0.0, 0.0, 0.0, 0.0, 0.0, 0.0, 0.0, 0.0, ...  "
            ]
          },
          "execution_count": 126,
          "metadata": {},
          "output_type": "execute_result"
        }
      ],
      "source": [
        "sequence_data = process_rally_data(processing_data,shot_vocab=shot_vocab)\n",
        "sequence_data.head()"
      ]
    },
    {
      "cell_type": "code",
      "execution_count": 133,
      "metadata": {},
      "outputs": [
        {
          "name": "stdout",
          "output_type": "stream",
          "text": [
            "<class 'pandas.core.frame.DataFrame'>\n",
            "RangeIndex: 247461 entries, 0 to 247460\n",
            "Data columns (total 14 columns):\n",
            " #   Column          Non-Null Count   Dtype  \n",
            "---  ------          --------------   -----  \n",
            " 0   Pt              55713 non-null   float64\n",
            " 1   Set1            55713 non-null   float64\n",
            " 2   Set2            55713 non-null   float64\n",
            " 3   Gm1             55713 non-null   float64\n",
            " 4   Gm2             55713 non-null   float64\n",
            " 5   Pts             55713 non-null   object \n",
            " 6   Gm#             55713 non-null   object \n",
            " 7   TB?             55713 non-null   float64\n",
            " 8   rallyLen        55713 non-null   float64\n",
            " 9   shot1           191748 non-null  object \n",
            " 10  shot2           191748 non-null  object \n",
            " 11  shot3           191748 non-null  object \n",
            " 12  winner_array    191748 non-null  object \n",
            " 13  unforced_array  191748 non-null  object \n",
            "dtypes: float64(7), object(7)\n",
            "memory usage: 26.4+ MB\n"
          ]
        }
      ],
      "source": [
        "processing_data = pd.concat([processing_data,sequence_data], ignore_index=True)\n",
        "processed_data = processing_data.drop(columns=processing_features, errors='ignore')\n",
        "processed_data.info()"
      ]
    },
    {
      "cell_type": "code",
      "execution_count": 129,
      "metadata": {},
      "outputs": [
        {
          "name": "stdout",
          "output_type": "stream",
          "text": [
            "\n",
            "Missing values after handleing:\n",
            "Pt                    0\n",
            "Set1                  0\n",
            "Set2                  0\n",
            "Gm1                   0\n",
            "Gm2                   0\n",
            "Pts                   0\n",
            "Gm#                   0\n",
            "TB?                   0\n",
            "rallyLen              0\n",
            "shot1             55713\n",
            "shot2             55713\n",
            "shot3             55713\n",
            "winner_array      55713\n",
            "unforced_array    55713\n",
            "dtype: int64\n"
          ]
        }
      ],
      "source": [
        "processed_data['TB?'].fillna(0, inplace=True)\n",
        "\n",
        "# Remove rows where 'Gm2' or 'Gm#' have missing values\n",
        "processed_data.dropna(subset=['Gm2', 'Gm#'], inplace=True)\n",
        "\n",
        "print(\"\\nMissing values after handleing:\")\n",
        "print(processed_data.isnull().sum())"
      ]
    },
    {
      "cell_type": "code",
      "execution_count": 130,
      "metadata": {},
      "outputs": [],
      "source": [
        "# Backup dataset\n",
        "processed_data.to_csv('data/processed_features.csv', index=False)"
      ]
    },
    {
      "cell_type": "markdown",
      "metadata": {},
      "source": [
        "### quality check"
      ]
    },
    {
      "cell_type": "code",
      "execution_count": 131,
      "metadata": {},
      "outputs": [],
      "source": [
        "#encode categorical variables"
      ]
    },
    {
      "cell_type": "code",
      "execution_count": 132,
      "metadata": {},
      "outputs": [
        {
          "data": {
            "image/png": "[encoded data removed]",
            "text/plain": [
              "<Figure size 1500x1000 with 9 Axes>"
            ]
          },
          "metadata": {},
          "output_type": "display_data"
        },
        {
          "data": {
            "image/png": "[encoded data removed]",
            "text/plain": [
              "<Figure size 1500x500 with 1 Axes>"
            ]
          },
          "metadata": {},
          "output_type": "display_data"
        },
        {
          "name": "stdout",
          "output_type": "stream",
          "text": [
            "\n",
            "Processed Data Summary Statistics:\n",
            "                 Pt          Set1          Set2           Gm1           Gm2  \\\n",
            "count  55713.000000  55713.000000  55713.000000  55713.000000  55713.000000   \n",
            "mean      99.815339      0.580672      0.460467      2.501283      2.350044   \n",
            "std       72.378972      0.685003      0.640442      1.903350      1.907012   \n",
            "min        1.000000      0.000000      0.000000      0.000000      0.000000   \n",
            "25%       44.000000      0.000000      0.000000      1.000000      1.000000   \n",
            "50%       87.000000      0.000000      0.000000      2.000000      2.000000   \n",
            "75%      140.000000      1.000000      1.000000      4.000000      4.000000   \n",
            "max      436.000000      2.000000      2.000000     17.000000     18.000000   \n",
            "\n",
            "                TB?      rallyLen  \n",
            "count  55713.000000  55713.000000  \n",
            "mean       0.034839      3.594350  \n",
            "std        0.183374      3.678951  \n",
            "min        0.000000      0.000000  \n",
            "25%        0.000000      1.000000  \n",
            "50%        0.000000      3.000000  \n",
            "75%        0.000000      5.000000  \n",
            "max        1.000000     37.000000  \n"
          ]
        }
      ],
      "source": [
        "# Visualize distributions to identify skewness\n",
        "processed_data.hist(bins=30, figsize=(15, 10))\n",
        "plt.suptitle(\"Processed Data Distributions\", fontsize=16)\n",
        "plt.show()\n",
        "\n",
        "# Visualize outliers using boxplots\n",
        "plt.figure(figsize=(15, 5))\n",
        "processed_data.boxplot()\n",
        "plt.title(\"Kept Data Outliers\")\n",
        "plt.xticks(rotation=90)\n",
        "plt.show()\n",
        "\n",
        "print(\"\\nProcessed Data Summary Statistics:\")\n",
        "print(processed_data.describe())"
      ]
    }
  ],
  "metadata": {
    "colab": {
      "authorship_tag": "ABX9TyMpCK1Lt7iODa7s+5h4SExo",
      "include_colab_link": true,
      "provenance": []
    },
    "kernelspec": {
      "display_name": "Python 3 (ipykernel)",
      "language": "python",
      "name": "python3"
    },
    "language_info": {
      "codemirror_mode": {
        "name": "ipython",
        "version": 3
      },
      "file_extension": ".py",
      "mimetype": "text/x-python",
      "name": "python",
      "nbconvert_exporter": "python",
      "pygments_lexer": "ipython3",
      "version": "3.10.14"
    }
  },
  "nbformat": 4,
  "nbformat_minor": 0
}
