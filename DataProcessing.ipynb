{
  "cells": [
    {
      "cell_type": "markdown",
      "metadata": {},
      "source": [
        "# Data exploration and cleaning"
      ]
    },
    {
      "cell_type": "code",
      "execution_count": 47,
      "metadata": {},
      "outputs": [],
      "source": [
        "import numpy as np\n",
        "import pandas as pd\n",
        "import seaborn\n",
        "import os\n",
        "\n",
        "from matplotlib import pyplot as plt\n",
        "from numpy import log1p\n"
      ]
    },
    {
      "cell_type": "markdown",
      "metadata": {},
      "source": [
        "## Import data"
      ]
    },
    {
      "cell_type": "markdown",
      "metadata": {},
      "source": [
        "### for jupter Notebook"
      ]
    },
    {
      "cell_type": "code",
      "execution_count": 48,
      "metadata": {},
      "outputs": [
        {
          "name": "stdout",
          "output_type": "stream",
          "text": [
            "Current Working Directory: c:\\Users\\nicho\\OneDrive\\Documents\\GitHub\\TennisStrokePrediction\n"
          ]
        },
        {
          "name": "stderr",
          "output_type": "stream",
          "text": [
            "C:\\Users\\nicho\\AppData\\Local\\Temp\\ipykernel_22580\\2372044445.py:5: DtypeWarning: Columns (7,12,24,25,26,31,32,33,34,35,45,51) have mixed types. Specify dtype option on import or set low_memory=False.\n",
            "  data = pd.read_csv(file_path, encoding='latin1')\n"
          ]
        },
        {
          "name": "stdout",
          "output_type": "stream",
          "text": [
            "Index(['match_id', 'Pt', 'Set1', 'Set2', 'Gm1', 'Gm2', 'Pts', 'Gm#', 'TbSet',\n",
            "       'TB?', 'TBpt', 'Svr', 'Ret', 'Serving', '1st', '2nd', 'Notes',\n",
            "       '1stNoLet', '2ndNoLet', '1stSV', '2ndSV', '1stNoSV', '2ndNoSV', '1stIn',\n",
            "       '2ndIn', 'isRally1st', 'isRally2nd', 'Sv1', 'Sv2', 'Rally', 'isAce',\n",
            "       'isUnret', 'isRallyWinner', 'isForced', 'isUnforced', 'isDouble',\n",
            "       'rallyNoSpec', 'rallyNoError', 'rallyNoDirection', 'rallyLen',\n",
            "       'PtWinner', 'isSvrWinner', 'PtsAfter', 'GmW', 'Gm1.1', 'Gm2.1', 'SetW',\n",
            "       'Set1.1', 'Set2.1', 'RevTB', 'TBrev', 'rallyCount'],\n",
            "      dtype='object')\n"
          ]
        }
      ],
      "source": [
        "# Ensure the file exists in the current directory or provide the correct path\n",
        "print(\"Current Working Directory:\", os.getcwd())\n",
        "file_path = 'data/charting-m-points.csv' \n",
        "\n",
        "data = pd.read_csv(file_path, encoding='latin1')\n",
        "\t\n",
        "print(data.columns)"
      ]
    },
    {
      "cell_type": "markdown",
      "metadata": {},
      "source": [
        "## Data cleaning"
      ]
    },
    {
      "cell_type": "code",
      "execution_count": 49,
      "metadata": {},
      "outputs": [
        {
          "name": "stdout",
          "output_type": "stream",
          "text": [
            "Kept Features Types:\n",
            "Pt            int64\n",
            "Set1          int64\n",
            "Set2          int64\n",
            "Gm1           int64\n",
            "Gm2         float64\n",
            "Pts          object\n",
            "Gm#          object\n",
            "TB?         float64\n",
            "rallyLen      int64\n",
            "dtype: object\n",
            "\n",
            "Processed Features Types:\n",
            "match_id         object\n",
            "Svr               int64\n",
            "Ret              object\n",
            "Serving          object\n",
            "Sv1              object\n",
            "Sv2              object\n",
            "isAce              bool\n",
            "isUnret          object\n",
            "isRallyWinner    object\n",
            "isForced         object\n",
            "isUnforced       object\n",
            "isDouble         object\n",
            "rallyNoError     object\n",
            "dtype: object\n"
          ]
        }
      ],
      "source": [
        "dropped_features = [\"TbSet\", \"TBpt\", \"1st\", \"2nd\", \"Notes\", \"1stNoLet\", \"2ndNoLet\", \"1stSV\", \"2ndSV\", \"1stNoSV\", \"2ndNoSV\", \"1stIn\", \"2ndIn\", \"isRally1st\", \"isRally2nd\", \"Rally\", \"rallyNoSpec\", \"rallyNoDirection\", \"PtWinner\", \"isSvrWinner\", \"PtsAfter\", 'GmW', 'Gm1.1', 'Gm2.1', 'SetW', 'Set1.1', 'Set2.1', \"RevTB\", \"TBrev\", \"rallyCount\"]\n",
        "\n",
        "kept_features = [\"Pt\", \"Set1\", \"Set2\", \"Gm1\", \"Gm2\", \"Pts\", \"Gm#\", \"TB?\", \"rallyLen\"]\n",
        "\n",
        "processing_features = [ \"match_id\", \"Svr\", \"Ret\", \"Serving\",\"Sv1\", \"Sv2\",\"isAce\", \"isUnret\", \"isRallyWinner\", \"isForced\", \"isUnforced\", \"isDouble\", \"rallyNoError\"]\n",
        "\n",
        "\n",
        "data = data.drop(columns=dropped_features, errors='ignore')\n",
        "\n",
        "# Split the data into two datasets\n",
        "kept_features_data = data[kept_features].copy()\n",
        "processing_features_data = data[processing_features].copy()\n",
        "\n",
        "print(\"Kept Features Types:\")\n",
        "print(kept_features_data.dtypes)\n",
        "\n",
        "print(\"\\nProcessed Features Types:\")\n",
        "print(processing_features_data.dtypes)\n"
      ]
    },
    {
      "cell_type": "code",
      "execution_count": 50,
      "metadata": {},
      "outputs": [
        {
          "name": "stdout",
          "output_type": "stream",
          "text": [
            "\n",
            "Missing values:\n",
            "match_id              0\n",
            "Pt                    0\n",
            "Set1                  0\n",
            "Set2                  0\n",
            "Gm1                   0\n",
            "Gm2                   1\n",
            "Pts                   0\n",
            "Gm#                   1\n",
            "TB?                  75\n",
            "Svr                   0\n",
            "Ret                   0\n",
            "Serving             946\n",
            "Sv1                   0\n",
            "Sv2              205088\n",
            "isAce                 0\n",
            "isUnret              10\n",
            "isRallyWinner        10\n",
            "isForced             10\n",
            "isUnforced            0\n",
            "isDouble              0\n",
            "rallyNoError      44059\n",
            "rallyLen              0\n",
            "dtype: int64\n"
          ]
        }
      ],
      "source": [
        "print(\"\\nMissing values:\")\n",
        "print(data.isnull().sum())"
      ]
    },
    {
      "cell_type": "markdown",
      "metadata": {},
      "source": [
        "# Process deduced features and compount features"
      ]
    },
    {
      "cell_type": "code",
      "execution_count": 51,
      "metadata": {},
      "outputs": [],
      "source": [
        "def filter_data_by_player(data, target_player):\n",
        "    \"\"\"\n",
        "    Filters the data for rows where the target player is playing.\n",
        "\n",
        "    Parameters:\n",
        "    data (pd.DataFrame): The input dataset.\n",
        "    target_player (str): The name of the target player.\n",
        "\n",
        "    Returns:\n",
        "    pd.DataFrame: Filtered dataset containing only rows where the target player is playing.\n",
        "    \"\"\"\n",
        "    # Select \"match_id\" where target player is playing\n",
        "    selected_match_ids = data.loc[data['Serving'] == target_player, 'match_id'].unique()\n",
        "\n",
        "    # Filter rows in data where \"match_id\" is in the selected match_ids\n",
        "    filtered_data = data[data['match_id'].isin(selected_match_ids)]\n",
        "    \n",
        "    return filtered_data\n",
        "\n",
        "#In processing_data create \"Svr\" : 1 if the target player is serving, 0 if the target player is receiving\n",
        "def create_svr_column(data, target_player): \n",
        "    \"\"\"\n",
        "    Creates a new column \"Svr\" in the dataset indicating if the target player is serving.\n",
        "\n",
        "    Parameters:\n",
        "    data (pd.DataFrame): The input dataset.\n",
        "    target_player (str): The name of the target player.\n",
        "\n",
        "    Returns:\n",
        "    pd.DataFrame: Updated dataset with the new \"Svr\" column.\n",
        "    \"\"\"\n",
        "    data['Svr'] = np.where(data['Serving'] == target_player, 1, 0)\n",
        "    return data"
      ]
    },
    {
      "cell_type": "code",
      "execution_count": 52,
      "metadata": {},
      "outputs": [],
      "source": [
        "# define shot types to be mapped for our unforced error and winners array\n",
        "shot_types = [\n",
        "    'f', 'b',  # groundstrokes\n",
        "    'r', 's',  # slices\n",
        "    'v', 'z',  # volleys\n",
        "    'o', 'p',  # overheads\n",
        "    'u', 'y',  # drop shots\n",
        "    'l', 'm',  # lobs\n",
        "    'h', 'i',  # half-volleys\n",
        "    'j', 'k',  # swinging volleys\n",
        "    't', 'q'   # trick shots and unknown shots\n",
        "]\n",
        "\n",
        "# generate combinations with directions 1, 2, 3\n",
        "shot_vocab = {f\"{shot}{n}\": idx for idx, (shot, n) in enumerate(\n",
        "    (s, i) for s in shot_types for i in [1, 2, 3]\n",
        ")}\n",
        "\n"
      ]
    },
    {
      "cell_type": "code",
      "execution_count": 87,
      "metadata": {},
      "outputs": [],
      "source": [
        "import re\n",
        "import numpy as np\n",
        "import pandas as pd\n",
        "\n",
        "def process_rally_data(df, shot_vocab):\n",
        "    sequence_data = []\n",
        "    direction_dict = {'1', '2', '3'}\n",
        "    serve_dict={'4','5','6'}\n",
        "\n",
        "    for _, row in df.iterrows():\n",
        "        isServe = row['Svr'] == 1\n",
        "        rally = str(row['rallyNoError'])\n",
        "\n",
        "        if pd.isna(rally) or len(rally) < 2:\n",
        "            continue\n",
        "\n",
        "        debug_logs = []\n",
        "        tokens = []\n",
        "\n",
        "        # First shot: allow 1–2 digits\n",
        "        match = re.match(r'^([a-zA-Z])(\\d+)', rally)\n",
        "        if not match:\n",
        "            continue\n",
        "\n",
        "        first_letter = match.group(1)\n",
        "        digits = match.group(2)[:2]\n",
        "        first_token = first_letter + digits[0]\n",
        "\n",
        "        if first_token in shot_vocab:\n",
        "            tokens.append(first_token)\n",
        "        else:\n",
        "            continue\n",
        "        idx = len(match.group(0))\n",
        "\n",
        "        # Extract remaining shots\n",
        "        while idx + 2 <= len(rally):\n",
        "            segment = rally[idx:idx+3]\n",
        "            debug_logs.append(f\"[{idx}] Segment: '{segment}'\")\n",
        "\n",
        "            if re.match(r'^[a-zA-Z]\\d[a-zA-Z]$', segment):\n",
        "                token = segment[0] + segment[1]\n",
        "                debug_logs.append(f\"[{idx}] Pattern A: {segment}\")\n",
        "\n",
        "                if token in shot_vocab:\n",
        "                    tokens.append(token)\n",
        "\n",
        "                else:\n",
        "                    debug_logs.append(f\"[{idx}] ❌ Invalid token: {token}\")\n",
        "                    break\n",
        "                idx += 2\n",
        "\n",
        "            elif re.match(r'^[a-zA-Z]\\d\\d$', segment):\n",
        "                debug_logs.append(f\"[{idx}] Pattern B: {segment}\")\n",
        "                token1 = segment[0] + segment[1]\n",
        "                token2 = segment[0] + segment[2]\n",
        "\n",
        "                if segment[1] in direction_dict and token1 in shot_vocab:\n",
        "                    tokens.append(token1)\n",
        "\n",
        "                elif segment[2] in direction_dict and token2 in shot_vocab:\n",
        "                    tokens.append(token2)\n",
        "\n",
        "                else:\n",
        "                    debug_logs.append(f\"[{idx}] ❌ Invalid tokens: {token1}, {token2}\")\n",
        "                    break\n",
        "                idx += 3\n",
        "\n",
        "            elif re.match(r'^[a-zA-Z][a-zA-Z]\\d$', segment):\n",
        "                debug_logs.append(f\"[{idx}] Pattern C: {segment}\")\n",
        "                token = segment[1] + segment[2]\n",
        "\n",
        "                if token in shot_vocab:\n",
        "                    tokens.append(token)\n",
        "\n",
        "                else:\n",
        "                    debug_logs.append(f\"[{idx}] ❌ Invalid token: {token}\")\n",
        "                    break\n",
        "                idx += 3\n",
        "\n",
        "            else:\n",
        "                debug_logs.append(f\"[{idx}] Pattern D (Fallback): {segment}\")\n",
        "\n",
        "                if idx + 1 < len(rally):\n",
        "                    ch1, ch2 = rally[idx], rally[idx + 1]\n",
        "                    token = ch1 + ch2\n",
        "\n",
        "                    if ch1.isalpha() and ch2 in direction_dict and token in shot_vocab:\n",
        "                        tokens.append(token)\n",
        "                        idx += 2\n",
        "\n",
        "                    else:\n",
        "                        debug_logs.append(f\"[{idx}] ❌ Invalid fallback token: {token}\")\n",
        "                        break\n",
        "                else:\n",
        "                    break\n",
        "\n",
        "        # Skip rallies with invalid parsing\n",
        "        if any(log.startswith(\"❌\") for log in debug_logs):\n",
        "            print(f\"\\n🔍 Invalid rally at row {row.name}: {rally}\")\n",
        "            for log in debug_logs:\n",
        "                print(log)\n",
        "            continue\n",
        "\n",
        "        # --- Serve Logic ---\n",
        "        if not pd.isna(row['Sv1']) and row['Sv1'][0] in serve_dict:\n",
        "            if not pd.isna(row['Sv2']) and row['Sv2'][0] in serve_dict:\n",
        "                full_rally = [row['Sv1'][0], row['Sv2'][0]] + tokens\n",
        "            else:\n",
        "                full_rally = ['0', row['Sv1'][0]] + tokens\n",
        "        else:\n",
        "            continue\n",
        "\n",
        "        # --- Label Arrays ---\n",
        "        winner_array = np.zeros(54)\n",
        "        unforced_array = np.zeros(54)\n",
        "\n",
        "        final_shot = tokens[-1]\n",
        "        idx = shot_vocab.get(final_shot, None)\n",
        "        if idx is not None:\n",
        "            if row['isRallyWinner']:\n",
        "                winner_array[idx] += 1\n",
        "            elif row['isUnforced']:\n",
        "                unforced_array[idx] += 1\n",
        "\n",
        "        # --- 3-Shot Sequence Construction ---\n",
        "        i = 1 if isServe else 0\n",
        "        while i + 2 < len(full_rally):\n",
        "            new_row = row.to_dict()\n",
        "            new_row['shot1'] = full_rally[i]\n",
        "            new_row['shot2'] = full_rally[i + 1]\n",
        "            new_row['shot3'] = full_rally[i + 2]\n",
        "            new_row['winner_array'] = winner_array.copy()\n",
        "            new_row['unforced_array'] = unforced_array.copy()\n",
        "            sequence_data.append(new_row)\n",
        "            i += 2\n",
        "\n",
        "    return pd.DataFrame(sequence_data)\n"
      ]
    },
    {
      "cell_type": "markdown",
      "metadata": {},
      "source": [
        "### Acutual processing"
      ]
    },
    {
      "cell_type": "code",
      "execution_count": 88,
      "metadata": {},
      "outputs": [
        {
          "name": "stdout",
          "output_type": "stream",
          "text": [
            "Number of Unique Matches Found: 322\n",
            "Number of Rows Selected: 55713\n",
            "Sum of Rally Lengths: 200252\n"
          ]
        }
      ],
      "source": [
        "processing_data = data.copy()\n",
        "target_player = \"RF\"\n",
        "\n",
        "# Test the filter_data_by_player function\n",
        "processing_data = filter_data_by_player(processing_data, target_player)\n",
        "\n",
        "# Print the number of unique match IDs selected\n",
        "num_unique_matches = len(processing_data['match_id'].unique())\n",
        "print(f\"Number of Unique Matches Found: {num_unique_matches}\")\n",
        "\n",
        "# Print the number of rows selected\n",
        "num_rows_selected = processing_data.shape[0]\n",
        "print(f\"Number of Rows Selected: {num_rows_selected}\")\n",
        "\n",
        "# Calculate and print the sum of rally lengths for all rows\n",
        "if 'rallyLen' in processing_data.columns:\n",
        "    rally_len_sum = processing_data['rallyLen'].sum()\n",
        "    print(f\"Sum of Rally Lengths: {rally_len_sum}\")\n",
        "else:\n",
        "    print(\"Column 'rallyLen' not found in the dataset.\")\n",
        "\n",
        "# Test the create_svr_column function\n",
        "processing_data = create_svr_column(processing_data, target_player)"
      ]
    },
    {
      "cell_type": "code",
      "execution_count": 89,
      "metadata": {},
      "outputs": [
        {
          "name": "stdout",
          "output_type": "stream",
          "text": [
            "<class 'pandas.core.frame.DataFrame'>\n",
            "RangeIndex: 95282 entries, 0 to 95281\n",
            "Data columns (total 27 columns):\n",
            " #   Column          Non-Null Count  Dtype  \n",
            "---  ------          --------------  -----  \n",
            " 0   match_id        95282 non-null  object \n",
            " 1   Pt              95282 non-null  int64  \n",
            " 2   Set1            95282 non-null  int64  \n",
            " 3   Set2            95282 non-null  int64  \n",
            " 4   Gm1             95282 non-null  int64  \n",
            " 5   Gm2             95282 non-null  float64\n",
            " 6   Pts             95282 non-null  object \n",
            " 7   Gm#             95282 non-null  object \n",
            " 8   TB?             95282 non-null  float64\n",
            " 9   Svr             95282 non-null  int64  \n",
            " 10  Ret             95282 non-null  object \n",
            " 11  Serving         95282 non-null  object \n",
            " 12  Sv1             95282 non-null  object \n",
            " 13  Sv2             42649 non-null  object \n",
            " 14  isAce           95282 non-null  bool   \n",
            " 15  isUnret         95282 non-null  object \n",
            " 16  isRallyWinner   95282 non-null  object \n",
            " 17  isForced        95282 non-null  object \n",
            " 18  isUnforced      95282 non-null  object \n",
            " 19  isDouble        95282 non-null  object \n",
            " 20  rallyNoError    95282 non-null  object \n",
            " 21  rallyLen        95282 non-null  int64  \n",
            " 22  shot1           95282 non-null  object \n",
            " 23  shot2           95282 non-null  object \n",
            " 24  shot3           95282 non-null  object \n",
            " 25  winner_array    95282 non-null  object \n",
            " 26  unforced_array  95282 non-null  object \n",
            "dtypes: bool(1), float64(2), int64(6), object(18)\n",
            "memory usage: 19.0+ MB\n"
          ]
        }
      ],
      "source": [
        "sequence_data = process_rally_data(processing_data,shot_vocab=shot_vocab)\n",
        "sequence_data.info()"
      ]
    },
    {
      "cell_type": "code",
      "execution_count": 101,
      "metadata": {},
      "outputs": [
        {
          "name": "stdout",
          "output_type": "stream",
          "text": [
            "Unique labels in shot1: ['0' '4' '5' '6' 'b1' 'b2' 'b3' 'f1' 'f2' 'f3' 'h1' 'h2' 'h3' 'i1' 'i2'\n",
            " 'i3' 'j1' 'j2' 'j3' 'k3' 'l1' 'l2' 'l3' 'm1' 'm2' 'm3' 'o1' 'o2' 'o3'\n",
            " 'p1' 'p2' 'p3' 'q2' 'q3' 'r1' 'r2' 'r3' 's1' 's2' 's3' 't2' 'u1' 'u2'\n",
            " 'u3' 'v1' 'v2' 'v3' 'y1' 'y2' 'y3' 'z1' 'z2' 'z3']\n"
          ]
        }
      ],
      "source": [
        "print(\"Unique labels in shot1:\", np.unique(sequence_data['shot1']))"
      ]
    },
    {
      "cell_type": "code",
      "execution_count": 91,
      "metadata": {},
      "outputs": [
        {
          "name": "stdout",
          "output_type": "stream",
          "text": [
            "<class 'pandas.core.frame.DataFrame'>\n",
            "RangeIndex: 95282 entries, 0 to 95281\n",
            "Data columns (total 15 columns):\n",
            " #   Column          Non-Null Count  Dtype  \n",
            "---  ------          --------------  -----  \n",
            " 0   Pt              95282 non-null  int64  \n",
            " 1   Set1            95282 non-null  int64  \n",
            " 2   Set2            95282 non-null  int64  \n",
            " 3   Gm1             95282 non-null  int64  \n",
            " 4   Gm2             95282 non-null  float64\n",
            " 5   Gm#             95282 non-null  object \n",
            " 6   TB?             95282 non-null  float64\n",
            " 7   rallyLen        95282 non-null  int64  \n",
            " 8   shot1           95282 non-null  object \n",
            " 9   shot2           95282 non-null  object \n",
            " 10  shot3           95282 non-null  object \n",
            " 11  winner_array    95282 non-null  object \n",
            " 12  unforced_array  95282 non-null  object \n",
            " 13  Pts1            95282 non-null  int64  \n",
            " 14  Pts2            95282 non-null  int64  \n",
            "dtypes: float64(2), int64(7), object(6)\n",
            "memory usage: 10.9+ MB\n"
          ]
        }
      ],
      "source": [
        "processed_data = sequence_data.drop(columns=processing_features, errors='ignore')\n",
        "\n",
        "# split the Pts dataset into Pts1 for player 1's points and Pts2 for player 2's points for consistent int values\n",
        "def split_pts(pts):\n",
        "    try:\n",
        "        p1, p2 = pts.split('-')\n",
        "        return int(p1.strip()), int(p2.strip())\n",
        "    except:\n",
        "        return 0, 0  # default to 0 if invalid\n",
        "\n",
        "# Split into two columns\n",
        "processed_data[['Pts1', 'Pts2']] = processed_data['Pts'].apply(lambda x: pd.Series(split_pts(str(x))))\n",
        "\n",
        "# Drop the original 'Pts' column since it's now encoded\n",
        "processed_data.drop('Pts', axis=1, inplace=True)\n",
        "\n",
        "processed_data.info()"
      ]
    },
    {
      "cell_type": "code",
      "execution_count": 92,
      "metadata": {},
      "outputs": [
        {
          "name": "stdout",
          "output_type": "stream",
          "text": [
            "<class 'pandas.core.frame.DataFrame'>\n",
            "RangeIndex: 95282 entries, 0 to 95281\n",
            "Data columns (total 15 columns):\n",
            " #   Column          Non-Null Count  Dtype  \n",
            "---  ------          --------------  -----  \n",
            " 0   Pt              95282 non-null  int64  \n",
            " 1   Set1            95282 non-null  int64  \n",
            " 2   Set2            95282 non-null  int64  \n",
            " 3   Gm1             95282 non-null  int64  \n",
            " 4   Gm2             95282 non-null  float64\n",
            " 5   Gm#             95282 non-null  int64  \n",
            " 6   TB?             95282 non-null  float64\n",
            " 7   rallyLen        95282 non-null  int64  \n",
            " 8   shot1           95282 non-null  object \n",
            " 9   shot2           95282 non-null  object \n",
            " 10  shot3           95282 non-null  object \n",
            " 11  winner_array    95282 non-null  object \n",
            " 12  unforced_array  95282 non-null  object \n",
            " 13  Pts1            95282 non-null  int64  \n",
            " 14  Pts2            95282 non-null  int64  \n",
            "dtypes: float64(2), int64(8), object(5)\n",
            "memory usage: 10.9+ MB\n"
          ]
        }
      ],
      "source": [
        "# convert the Gm# column into all integers for consistent values\n",
        "\n",
        "import re\n",
        "\n",
        "# Extract the first integer using regex and convert to int\n",
        "processed_data['Gm#'] = processed_data['Gm#'].apply(lambda x: int(re.match(r'\\d+', str(x)).group()) if re.match(r'\\d+', str(x)) else 0)\n",
        "\n",
        "processed_data.info()"
      ]
    },
    {
      "cell_type": "code",
      "execution_count": 93,
      "metadata": {},
      "outputs": [
        {
          "name": "stdout",
          "output_type": "stream",
          "text": [
            "\n",
            "Missing values after handleing:\n",
            "Pt                0\n",
            "Set1              0\n",
            "Set2              0\n",
            "Gm1               0\n",
            "Gm2               0\n",
            "Gm#               0\n",
            "TB?               0\n",
            "rallyLen          0\n",
            "shot1             0\n",
            "shot2             0\n",
            "shot3             0\n",
            "winner_array      0\n",
            "unforced_array    0\n",
            "Pts1              0\n",
            "Pts2              0\n",
            "dtype: int64\n"
          ]
        }
      ],
      "source": [
        "processed_data['TB?'].fillna(0, inplace=True)\n",
        "\n",
        "# Remove rows where 'Gm2' or 'Gm#' have missing values\n",
        "processed_data.dropna(subset=['Gm2', 'Gm#'], inplace=True)\n",
        "\n",
        "print(\"\\nMissing values after handleing:\")\n",
        "print(processed_data.isnull().sum())"
      ]
    },
    {
      "cell_type": "code",
      "execution_count": 94,
      "metadata": {},
      "outputs": [],
      "source": [
        "# Backup dataset\n",
        "processed_data.to_csv('data/processed_features.csv', index=False)"
      ]
    },
    {
      "cell_type": "markdown",
      "metadata": {},
      "source": [
        "### quality check"
      ]
    },
    {
      "cell_type": "code",
      "execution_count": 95,
      "metadata": {},
      "outputs": [],
      "source": [
        "# Copy the DataFrame to avoid altering the original\n",
        "processed_data_xgb = processed_data.copy()"
      ]
    },
    {
      "cell_type": "code",
      "execution_count": 96,
      "metadata": {},
      "outputs": [],
      "source": [
        "# score to index mapping\n",
        "score_map = {'0': 0, '15': 1, '30': 2, '40': 3, 'A': 4, 'AD': 4}\n",
        "\n",
        "# map and convert to int\n",
        "processed_data_xgb['Pts1'] = processed_data_xgb['Pts1'].map(score_map).fillna(0).astype(int)\n",
        "processed_data_xgb['Pts2'] = processed_data_xgb['Pts2'].map(score_map).fillna(0).astype(int)"
      ]
    },
    {
      "cell_type": "code",
      "execution_count": 103,
      "metadata": {},
      "outputs": [
        {
          "name": "stderr",
          "output_type": "stream",
          "text": [
            "c:\\Users\\nicho\\anaconda3\\envs\\nnlm\\lib\\site-packages\\xgboost\\core.py:158: UserWarning: [13:30:43] WARNING: C:\\b\\abs_90_bwj_86a\\croot\\xgboost-split_1724073762025\\work\\src\\learner.cc:740: \n",
            "Parameters: { \"use_label_encoder\" } are not used.\n",
            "\n",
            "  warnings.warn(smsg, UserWarning)\n"
          ]
        },
        {
          "name": "stdout",
          "output_type": "stream",
          "text": [
            "Train Accuracy: 0.4956116759593309\n",
            "Test Accuracy: 0.3780762974235189\n"
          ]
        }
      ],
      "source": [
        "from sklearn.preprocessing import LabelEncoder\n",
        "from sklearn.model_selection import train_test_split\n",
        "from xgboost import XGBClassifier\n",
        "import numpy as np\n",
        "import pandas as pd\n",
        "\n",
        "# Copy the data\n",
        "processed_data_xgb = processed_data.copy()\n",
        "\n",
        "# xgboost only accepts numerical and categorical data, so we split the 54 size arrays into one column each\n",
        "winner_df = pd.DataFrame(processed_data_xgb['winner_array'].tolist(), index=processed_data_xgb.index)\n",
        "winner_df.columns = [f'winner_{i}' for i in range(winner_df.shape[1])]\n",
        "\n",
        "unforced_df = pd.DataFrame(processed_data_xgb['unforced_array'].tolist(), index=processed_data_xgb.index)\n",
        "unforced_df.columns = [f'unforced_{i}' for i in range(unforced_df.shape[1])]\n",
        "\n",
        "# Drop the original object columns\n",
        "processed_data_xgb.drop(columns=['winner_array', 'unforced_array'], inplace=True)\n",
        "\n",
        "# Concatenate the unpacked columns\n",
        "processed_data_xgb = pd.concat([processed_data_xgb, winner_df, unforced_df], axis=1)\n",
        "\n",
        "# Step 1: Separate features and target BEFORE encoding\n",
        "X = processed_data_xgb.drop(columns=['shot3'])\n",
        "y_raw = processed_data_xgb['shot3']\n",
        "\n",
        "# Step 2: Train-test split\n",
        "X_train, X_test, y_train_raw, y_test_raw = train_test_split(X, y_raw, test_size=0.2, random_state=42)\n",
        "\n",
        "# Step 3: Encode categorical feature columns\n",
        "categorical_cols = ['Gm#', 'shot1', 'shot2']\n",
        "label_encoders = {}\n",
        "\n",
        "for col in categorical_cols:\n",
        "    le = LabelEncoder()\n",
        "    all_values = pd.concat([X_train[col], X_test[col]]).astype(str)\n",
        "    le.fit(all_values)\n",
        "    X_train[col] = le.transform(X_train[col].astype(str))\n",
        "    X_test[col] = le.transform(X_test[col].astype(str))\n",
        "    label_encoders[col] = le\n",
        "\n",
        "# Step 4: Encode target column (shot3)\n",
        "le_target = LabelEncoder()\n",
        "le_target.fit(pd.concat([y_train_raw, y_test_raw]))\n",
        "y_train = le_target.transform(y_train_raw)\n",
        "y_test = le_target.transform(y_test_raw)\n",
        "\n",
        "# Step 5: Train model\n",
        "model = XGBClassifier(use_label_encoder=False, eval_metric='mlogloss')\n",
        "model.fit(X_train, y_train)\n",
        "\n",
        "# Step 6: Evaluate\n",
        "print(\"Train Accuracy:\", model.score(X_train, y_train))\n",
        "print(\"Test Accuracy:\", model.score(X_test, y_test))\n"
      ]
    },
    {
      "cell_type": "code",
      "execution_count": null,
      "metadata": {},
      "outputs": [
        {
          "data": {
            "image/png": "[encoded data removed]",
            "text/plain": [
              "<Figure size 1500x1000 with 9 Axes>"
            ]
          },
          "metadata": {},
          "output_type": "display_data"
        },
        {
          "data": {
            "image/png": "[encoded data removed]",
            "text/plain": [
              "<Figure size 1500x500 with 1 Axes>"
            ]
          },
          "metadata": {},
          "output_type": "display_data"
        },
        {
          "name": "stdout",
          "output_type": "stream",
          "text": [
            "\n",
            "Processed Data Summary Statistics:\n",
            "                 Pt          Set1          Set2           Gm1           Gm2  \\\n",
            "count  95874.000000  95874.000000  95874.000000  95874.000000  95874.000000   \n",
            "mean      99.057763      0.565597      0.457069      2.527234      2.366742   \n",
            "std       71.259350      0.676295      0.637225      1.902644      1.918722   \n",
            "min        1.000000      0.000000      0.000000      0.000000      0.000000   \n",
            "25%       44.000000      0.000000      0.000000      1.000000      1.000000   \n",
            "50%       87.000000      0.000000      0.000000      2.000000      2.000000   \n",
            "75%      139.000000      1.000000      1.000000      4.000000      4.000000   \n",
            "max      436.000000      2.000000      2.000000     17.000000     18.000000   \n",
            "\n",
            "                TB?      rallyLen  \n",
            "count  95874.000000  95874.000000  \n",
            "mean       0.039500      7.530811  \n",
            "std        0.194782      5.272772  \n",
            "min        0.000000      1.000000  \n",
            "25%        0.000000      4.000000  \n",
            "50%        0.000000      6.000000  \n",
            "75%        0.000000     10.000000  \n",
            "max        1.000000     37.000000  \n"
          ]
        }
      ],
      "source": [
        "# Visualize distributions to identify skewness\n",
        "processed_data.hist(bins=30, figsize=(15, 10))\n",
        "plt.suptitle(\"Processed Data Distributions\", fontsize=16)\n",
        "plt.show()\n",
        "\n",
        "# Visualize outliers using boxplots\n",
        "plt.figure(figsize=(15, 5))\n",
        "processed_data.boxplot()\n",
        "plt.title(\"Kept Data Outliers\")\n",
        "plt.xticks(rotation=90)\n",
        "plt.show()\n",
        "\n",
        "print(\"\\nProcessed Data Summary Statistics:\")\n",
        "print(processed_data.describe())"
      ]
    }
  ],
  "metadata": {
    "colab": {
      "authorship_tag": "ABX9TyMpCK1Lt7iODa7s+5h4SExo",
      "include_colab_link": true,
      "provenance": []
    },
    "kernelspec": {
      "display_name": "nnlm",
      "language": "python",
      "name": "python3"
    },
    "language_info": {
      "codemirror_mode": {
        "name": "ipython",
        "version": 3
      },
      "file_extension": ".py",
      "mimetype": "text/x-python",
      "name": "python",
      "nbconvert_exporter": "python",
      "pygments_lexer": "ipython3",
      "version": "3.8.20"
    }
  },
  "nbformat": 4,
  "nbformat_minor": 0
}
